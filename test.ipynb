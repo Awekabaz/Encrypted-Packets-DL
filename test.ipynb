{
 "cells": [
  {
   "cell_type": "markdown",
   "metadata": {},
   "source": [
    "Test Models"
   ]
  },
  {
   "cell_type": "code",
   "execution_count": 48,
   "metadata": {},
   "outputs": [],
   "source": [
    "from model.eval import confusion_matrix, get_classification_report, load_model\n",
    "from preprocessing.ENV import ID_TO_APP, ID_TO_TRAFFIC\n",
    "import seaborn as sns\n",
    "import matplotlib as mpl\n",
    "import matplotlib.pyplot as plt"
   ]
  },
  {
   "cell_type": "code",
   "execution_count": null,
   "metadata": {},
   "outputs": [],
   "source": [
    "application_model_path = 'model/application_classification.cnn.model'\n",
    "traffic_model_path = 'model/traffic_classification.cnn.model'\n",
    "\n",
    "# test data path\n",
    "application_test_data= 'train_test_data/application_classification/test.parquet'\n",
    "traffic_test_data= 'train_test_data/traffic_classification/test.parquet'"
   ]
  },
  {
   "cell_type": "code",
   "execution_count": null,
   "metadata": {},
   "outputs": [],
   "source": [
    "application_model = load_model(model_path=application_model_path, gpu=True)\n",
    "traffic_model = load_model(model_path=traffic_model_path, gpu=True)"
   ]
  },
  {
   "cell_type": "code",
   "execution_count": null,
   "metadata": {},
   "outputs": [],
   "source": [
    "app_conf_matrix = confusion_matrix(\n",
    "    data_path=application_test_data,\n",
    "    model=application_model,\n",
    "    num_class=len(ID_TO_APP)\n",
    ")\n",
    "\n",
    "app_labels = []\n",
    "for i in sorted(list(ID_TO_APP.keys())):\n",
    "    app_labels.append(ID_TO_APP[i])\n",
    "\n",
    "get_classification_report(app_conf_matrix, app_labels)"
   ]
  },
  {
   "cell_type": "code",
   "execution_count": null,
   "metadata": {},
   "outputs": [],
   "source": [
    "with np.errstate(all='ignore'):\n",
    "    app_conf_matrix = app_conf_matrix / app_conf_matrix.sum(axis=1, keepdims=True)\n",
    "    app_conf_matrix = np.nan_to_num(app_conf_matrix)"
   ]
  },
  {
   "cell_type": "code",
   "execution_count": null,
   "metadata": {},
   "outputs": [],
   "source": [
    "fig, ax = plt.subplots(figsize=(12, 12))\n",
    "sns.heatmap(\n",
    "    data=app_conf_matrix, cmap='YlGnBu',\n",
    "    xticklabels=app_labels, yticklabels=app_labels,\n",
    "    annot=True, ax=ax, fmt='.2f'\n",
    ")\n",
    "ax.set_xlabel('Predict labels')\n",
    "ax.set_ylabel('True labels')\n",
    "fig.show()"
   ]
  },
  {
   "cell_type": "code",
   "execution_count": null,
   "metadata": {},
   "outputs": [],
   "source": [
    "traffic_conf_matrix = confusion_matrix(\n",
    "    data_path=traffic_test_data,\n",
    "    model=traffic_model,\n",
    "    class_num=len(ID_TO_TRAFFIC)\n",
    ")\n",
    "\n",
    "traffic_labels = []\n",
    "for i in sorted(list(ID_TO_TRAFFIC.keys())):\n",
    "    traffic_labels.append(ID_TO_TRAFFIC[i])\n",
    "\n",
    "get_classification_report(traffic_conf_matrix, traffic_labels)"
   ]
  },
  {
   "cell_type": "code",
   "execution_count": null,
   "metadata": {},
   "outputs": [],
   "source": [
    "with np.errstate(all='ignore'):\n",
    "    traffic_conf_matrix = traffic_conf_matrix / traffic_conf_matrix.sum(axis=1, keepdims=True)\n",
    "    traffic_conf_matrix = np.nan_to_num(traffic_conf_matrix)"
   ]
  },
  {
   "cell_type": "code",
   "execution_count": null,
   "metadata": {},
   "outputs": [],
   "source": [
    "fig, ax = plt.subplots(figsize=(12, 12))\n",
    "sns.heatmap(\n",
    "    data=traffic_conf_matrix, cmap='YlGnBu',\n",
    "    xticklabels=traffic_labels, yticklabels=traffic_labels,\n",
    "    annot=True, ax=ax, fmt='.2f'\n",
    ")\n",
    "ax.set_xlabel('Predict labels')\n",
    "ax.set_ylabel('True labels')\n",
    "fig.show()"
   ]
  }
 ],
 "metadata": {
  "kernelspec": {
   "display_name": "Python 3.10.0 ('deep_packet')",
   "language": "python",
   "name": "python3"
  },
  "language_info": {
   "codemirror_mode": {
    "name": "ipython",
    "version": 3
   },
   "file_extension": ".py",
   "mimetype": "text/x-python",
   "name": "python",
   "nbconvert_exporter": "python",
   "pygments_lexer": "ipython3",
   "version": "3.10.0"
  },
  "orig_nbformat": 4,
  "vscode": {
   "interpreter": {
    "hash": "a3e6c1d5e12c6af4101289fa3b7f05361e6da49555e96b854e66e0c56ea82043"
   }
  }
 },
 "nbformat": 4,
 "nbformat_minor": 2
}
